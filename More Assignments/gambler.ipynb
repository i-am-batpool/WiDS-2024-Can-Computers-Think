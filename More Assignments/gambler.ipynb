{
 "cells": [
  {
   "cell_type": "markdown",
   "metadata": {
    "vscode": {
     "languageId": "plaintext"
    }
   },
   "source": [
    "Applying value iteration method to find policy for the Gambler's Problem described in Sutton and Barto chapter 4."
   ]
  },
  {
   "cell_type": "code",
   "execution_count": 18,
   "metadata": {},
   "outputs": [],
   "source": [
    "import pprint\n",
    "import matplotlib.pyplot as plt"
   ]
  },
  {
   "cell_type": "code",
   "execution_count": 78,
   "metadata": {},
   "outputs": [],
   "source": [
    "gambler_mdp={}\n",
    "ph=0.25"
   ]
  },
  {
   "cell_type": "code",
   "execution_count": 82,
   "metadata": {},
   "outputs": [],
   "source": [
    "#creating mdp for the problem\n",
    "for state in range(0,101):\n",
    "    transitions={}\n",
    "    if (state==0 or state==100):\n",
    "        transitions[0]=[(1,state,0)]\n",
    "        gambler_mdp[state]=transitions\n",
    "        continue\n",
    "    for action in range(1,(1+min(state,100-state))):\n",
    "        transitions[action] = [\n",
    "            (ph, (state + action), 0) if (((state + action )!= 100)) else (ph, (state + action), 1),\n",
    "            ((1-ph), (state-action),0)\n",
    "        ]\n",
    "    gambler_mdp[state]=transitions"
   ]
  },
  {
   "cell_type": "code",
   "execution_count": 81,
   "metadata": {},
   "outputs": [
    {
     "data": {
      "image/png": "[encoded data removed]",
      "text/plain": [
       "<Figure size 640x480 with 1 Axes>"
      ]
     },
     "metadata": {},
     "output_type": "display_data"
    }
   ],
   "source": [
    "#implementing value iteration\n",
    "theta=0.00001\n",
    "delta=69\n",
    "values=[0]*101\n",
    "pi=[0]*101\n",
    "gamma=1\n",
    "while (delta>theta):\n",
    "    delta=0\n",
    "    for state in range(1,100):\n",
    "        v=values[state]\n",
    "        m=0\n",
    "        for action in gambler_mdp[state]:\n",
    "            new_value=0\n",
    "            for case in gambler_mdp[state][action]:\n",
    "                new_value+=(case[0]*(case[2]+(gamma*values[case[1]])))\n",
    "            if (new_value>m):\n",
    "                m=new_value\n",
    "                pi[state]=action\n",
    "        values[state]=m\n",
    "        delta=max(delta,abs(v-values[state]))\n",
    "plt.step(range(101), pi)\n",
    "plt.xticks([i for i in range(0, 101, 25)])\n",
    "plt.show()\n"
   ]
  },
  {
   "cell_type": "markdown",
   "metadata": {},
   "source": [
    "Interpretation: It tries to reach target values 25,50,75,100."
   ]
  }
 ],
 "metadata": {
  "kernelspec": {
   "display_name": "Python 3",
   "language": "python",
   "name": "python3"
  },
  "language_info": {
   "codemirror_mode": {
    "name": "ipython",
    "version": 3
   },
   "file_extension": ".py",
   "mimetype": "text/x-python",
   "name": "python",
   "nbconvert_exporter": "python",
   "pygments_lexer": "ipython3",
   "version": "3.10.12"
  }
 },
 "nbformat": 4,
 "nbformat_minor": 2
}
