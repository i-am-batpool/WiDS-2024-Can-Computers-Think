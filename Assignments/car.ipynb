{
 "cells": [
  {
   "cell_type": "markdown",
   "metadata": {},
   "source": [
    "It's pretty straightforward...Code will be similar to value iteration and conceptual part is already given in the book. So for now atleast I'm not writing the code here as I already understood it well."
   ]
  }
 ],
 "metadata": {
  "language_info": {
   "name": "python"
  }
 },
 "nbformat": 4,
 "nbformat_minor": 2
}
